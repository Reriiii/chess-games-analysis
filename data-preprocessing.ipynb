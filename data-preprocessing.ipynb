{
 "cells": [
  {
   "cell_type": "code",
   "execution_count": 1,
   "metadata": {},
   "outputs": [],
   "source": [
    "import pandas as pd\n",
    "import numpy as np "
   ]
  },
  {
   "cell_type": "code",
   "execution_count": 2,
   "id": "53674da2",
   "metadata": {},
   "outputs": [],
   "source": [
    "df = pd.read_csv('dataset/2025-01.csv')"
   ]
  },
  {
   "cell_type": "code",
   "execution_count": 4,
   "id": "82c7bf0a",
   "metadata": {},
   "outputs": [
    {
     "data": {
      "text/plain": [
       "(1000000, 11)"
      ]
     },
     "execution_count": 4,
     "metadata": {},
     "output_type": "execute_result"
    }
   ],
   "source": [
    "df.shape"
   ]
  },
  {
   "cell_type": "code",
   "execution_count": 3,
   "id": "4865e660",
   "metadata": {},
   "outputs": [
    {
     "data": {
      "text/html": [
       "<div>\n",
       "<style scoped>\n",
       "    .dataframe tbody tr th:only-of-type {\n",
       "        vertical-align: middle;\n",
       "    }\n",
       "\n",
       "    .dataframe tbody tr th {\n",
       "        vertical-align: top;\n",
       "    }\n",
       "\n",
       "    .dataframe thead th {\n",
       "        text-align: right;\n",
       "    }\n",
       "</style>\n",
       "<table border=\"1\" class=\"dataframe\">\n",
       "  <thead>\n",
       "    <tr style=\"text-align: right;\">\n",
       "      <th></th>\n",
       "      <th>Event</th>\n",
       "      <th>Date</th>\n",
       "      <th>White_Name</th>\n",
       "      <th>Black_Name</th>\n",
       "      <th>WhiteElo</th>\n",
       "      <th>BlackElo</th>\n",
       "      <th>WhiteRatingDiff</th>\n",
       "      <th>BlackRatingDiff</th>\n",
       "      <th>Result</th>\n",
       "      <th>Opening</th>\n",
       "      <th>TimeControl</th>\n",
       "    </tr>\n",
       "  </thead>\n",
       "  <tbody>\n",
       "    <tr>\n",
       "      <th>0</th>\n",
       "      <td>Rated Rapid game</td>\n",
       "      <td>2025.01.15</td>\n",
       "      <td>cheriMumu</td>\n",
       "      <td>Chungyee</td>\n",
       "      <td>2014</td>\n",
       "      <td>2040</td>\n",
       "      <td>-5.0</td>\n",
       "      <td>5.0</td>\n",
       "      <td>0-1</td>\n",
       "      <td>Queen's Gambit Declined: Albin Countergambit, ...</td>\n",
       "      <td>600+0</td>\n",
       "    </tr>\n",
       "    <tr>\n",
       "      <th>1</th>\n",
       "      <td>Rated Blitz game</td>\n",
       "      <td>2025.01.01</td>\n",
       "      <td>Streibband</td>\n",
       "      <td>Marpatimpi</td>\n",
       "      <td>1809</td>\n",
       "      <td>1861</td>\n",
       "      <td>-8.0</td>\n",
       "      <td>5.0</td>\n",
       "      <td>0-1</td>\n",
       "      <td>Englund Gambit Declined: Reversed French</td>\n",
       "      <td>180+2</td>\n",
       "    </tr>\n",
       "    <tr>\n",
       "      <th>2</th>\n",
       "      <td>Rated Bullet tournament https://lichess.org/to...</td>\n",
       "      <td>2025.01.20</td>\n",
       "      <td>Ska112</td>\n",
       "      <td>Aubuti</td>\n",
       "      <td>1401</td>\n",
       "      <td>1794</td>\n",
       "      <td>10.0</td>\n",
       "      <td>-10.0</td>\n",
       "      <td>1-0</td>\n",
       "      <td>Semi-Slav Defense: Accelerated Move Order</td>\n",
       "      <td>60+0</td>\n",
       "    </tr>\n",
       "    <tr>\n",
       "      <th>3</th>\n",
       "      <td>Rated Blitz game</td>\n",
       "      <td>2025.01.21</td>\n",
       "      <td>Gaeshlag</td>\n",
       "      <td>LeBoiss</td>\n",
       "      <td>875</td>\n",
       "      <td>833</td>\n",
       "      <td>0.0</td>\n",
       "      <td>1.0</td>\n",
       "      <td>1/2-1/2</td>\n",
       "      <td>Queen's Pawn Game: London System, with e6</td>\n",
       "      <td>300+3</td>\n",
       "    </tr>\n",
       "    <tr>\n",
       "      <th>4</th>\n",
       "      <td>Rated Blitz game</td>\n",
       "      <td>2025.01.01</td>\n",
       "      <td>Skasaky</td>\n",
       "      <td>kramnik110</td>\n",
       "      <td>2184</td>\n",
       "      <td>2198</td>\n",
       "      <td>59.0</td>\n",
       "      <td>-6.0</td>\n",
       "      <td>1-0</td>\n",
       "      <td>Slav Defense: Quiet Variation, Pin Defense</td>\n",
       "      <td>180+0</td>\n",
       "    </tr>\n",
       "  </tbody>\n",
       "</table>\n",
       "</div>"
      ],
      "text/plain": [
       "                                               Event        Date  White_Name  \\\n",
       "0                                   Rated Rapid game  2025.01.15   cheriMumu   \n",
       "1                                   Rated Blitz game  2025.01.01  Streibband   \n",
       "2  Rated Bullet tournament https://lichess.org/to...  2025.01.20      Ska112   \n",
       "3                                   Rated Blitz game  2025.01.21    Gaeshlag   \n",
       "4                                   Rated Blitz game  2025.01.01     Skasaky   \n",
       "\n",
       "   Black_Name  WhiteElo  BlackElo  WhiteRatingDiff  BlackRatingDiff   Result  \\\n",
       "0    Chungyee      2014      2040             -5.0              5.0      0-1   \n",
       "1  Marpatimpi      1809      1861             -8.0              5.0      0-1   \n",
       "2      Aubuti      1401      1794             10.0            -10.0      1-0   \n",
       "3     LeBoiss       875       833              0.0              1.0  1/2-1/2   \n",
       "4  kramnik110      2184      2198             59.0             -6.0      1-0   \n",
       "\n",
       "                                             Opening TimeControl  \n",
       "0  Queen's Gambit Declined: Albin Countergambit, ...       600+0  \n",
       "1           Englund Gambit Declined: Reversed French       180+2  \n",
       "2          Semi-Slav Defense: Accelerated Move Order        60+0  \n",
       "3          Queen's Pawn Game: London System, with e6       300+3  \n",
       "4         Slav Defense: Quiet Variation, Pin Defense       180+0  "
      ]
     },
     "execution_count": 3,
     "metadata": {},
     "output_type": "execute_result"
    }
   ],
   "source": [
    "df.head()"
   ]
  }
 ],
 "metadata": {
  "kernelspec": {
   "display_name": "Python 3",
   "language": "python",
   "name": "python3"
  },
  "language_info": {
   "codemirror_mode": {
    "name": "ipython",
    "version": 3
   },
   "file_extension": ".py",
   "mimetype": "text/x-python",
   "name": "python",
   "nbconvert_exporter": "python",
   "pygments_lexer": "ipython3",
   "version": "3.13.7"
  }
 },
 "nbformat": 4,
 "nbformat_minor": 5
}
